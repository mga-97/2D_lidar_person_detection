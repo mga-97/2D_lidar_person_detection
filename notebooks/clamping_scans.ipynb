{
 "cells": [
  {
   "cell_type": "code",
   "execution_count": 1,
   "metadata": {},
   "outputs": [],
   "source": [
    "import os"
   ]
  },
  {
   "cell_type": "code",
   "execution_count": 2,
   "metadata": {},
   "outputs": [],
   "source": [
    "scan_csv = [x for x in os.listdir('data/r1/test/') if x[-3:] == 'csv']"
   ]
  },
  {
   "cell_type": "code",
   "execution_count": 3,
   "metadata": {},
   "outputs": [],
   "source": [
    "for scan in scan_csv:\n",
    "    with open(f'data/r1/test/{scan}') as f:\n",
    "        clamped = []\n",
    "        for line in f:\n",
    "            split = line.split(',')\n",
    "            new_line = split[:2] # get index and timestamp\n",
    "            \n",
    "            for x in split[2:]:\n",
    "                if 'inf' in x:\n",
    "                    new_line.append('29.99')\n",
    "                else:\n",
    "                    new_line.append(x)\n",
    "            \n",
    "            new_line = ','.join(new_line)\n",
    "            clamped.append(new_line if new_line[-1] == '\\n' else new_line + '\\n')\n",
    "\n",
    "    with open(f'data/r1/test/{scan}', 'w') as nf:\n",
    "        nf.writelines(clamped)"
   ]
  },
  {
   "cell_type": "code",
   "execution_count": null,
   "metadata": {},
   "outputs": [],
   "source": []
  }
 ],
 "metadata": {
  "kernelspec": {
   "display_name": "Python 3",
   "language": "python",
   "name": "python3"
  },
  "language_info": {
   "codemirror_mode": {
    "name": "ipython",
    "version": 3
   },
   "file_extension": ".py",
   "mimetype": "text/x-python",
   "name": "python",
   "nbconvert_exporter": "python",
   "pygments_lexer": "ipython3",
   "version": "3.10.12"
  }
 },
 "nbformat": 4,
 "nbformat_minor": 2
}
